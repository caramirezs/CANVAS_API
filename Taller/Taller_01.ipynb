{
 "cells": [
  {
   "cell_type": "code",
   "execution_count": 32,
   "id": "initial_id",
   "metadata": {
    "collapsed": true,
    "ExecuteTime": {
     "end_time": "2023-09-24T23:50:01.309980300Z",
     "start_time": "2023-09-24T23:50:01.295545500Z"
    }
   },
   "outputs": [],
   "source": [
    "import os\n",
    "import json\n",
    "import sys\n",
    "import csv\n",
    "import pandas as pd\n",
    "import requests\n",
    "from colorama import Fore, Back, Style, init\n",
    "\n",
    "init(autoreset=True)  # reset the previous color and style after each line\n",
    "ACCESS_TOKEN = os.getenv('ACCESS_TOKEN')\n",
    "api_url = f'https://poli.instructure.com/api/v1/'"
   ]
  },
  {
   "cell_type": "code",
   "execution_count": 163,
   "outputs": [],
   "source": [
    "def get_function(url='', payload={}, token='', verbose=True):\n",
    "    headers = {\n",
    "        \"Authorization\": f\"Bearer {token}\"\n",
    "    }\n",
    "    r = requests.get(url, headers=headers, data=payload)\n",
    "    if verbose:\n",
    "        if r.status_code == 200:\n",
    "            color = Fore.GREEN\n",
    "        else:\n",
    "            color = Fore.RED\n",
    "        print(color + f'{r.status_code} >> {r.reason}')\n",
    "    if r.status_code == 200:\n",
    "       return r\n",
    "    else:\n",
    "        return None"
   ],
   "metadata": {
    "collapsed": false,
    "ExecuteTime": {
     "end_time": "2023-09-25T00:54:40.826926700Z",
     "start_time": "2023-09-25T00:54:40.816413500Z"
    }
   },
   "id": "3325a2d75a43f52b"
  },
  {
   "cell_type": "code",
   "execution_count": 164,
   "outputs": [
    {
     "name": "stdout",
     "output_type": "stream",
     "text": [
      "200 >> OK\n",
      "{\n",
      "  \"id\": 52,\n",
      "  \"name\": \"Ramirez Camilo\",\n",
      "  \"short_name\": \"Camilo Ramirez Sanchez\",\n",
      "  \"sortable_name\": \"Camilo, Ramirez\",\n",
      "  \"sis_user_id\": \"62346\",\n",
      "  \"avatar_url\": \"https://poli.instructure.com/images/thumbnails/28936298/lHfENyeFpTwgkcixuHmjkZjy3niuLufTlJgXsqYS\",\n",
      "  \"integration_id\": \"80793412\",\n",
      "  \"title\": null,\n",
      "  \"bio\": \"Camilo Andr\\u00e9s Ram\\u00edrez S\\u00e1nchez\\r\\nDocente Departamento de Matem\\u00e1ticas\\r\\nInstituci\\u00f3n Universitaria Polit\\u00e9cnico Grancolombiano\",\n",
      "  \"primary_email\": \"caramirezs@poligran.edu.co\",\n",
      "  \"login_id\": \"caramirezs@poligran.edu.co\",\n",
      "  \"time_zone\": \"America/Bogota\",\n",
      "  \"locale\": \"es\",\n",
      "  \"effective_locale\": \"es\",\n",
      "  \"calendar\": {\n",
      "    \"ics\": \"https://poli.instructure.com/feeds/calendars/user_KlkI5SE29SfsWfSvg4l0BrlCZnorDprqDTTogvLo.ics\"\n",
      "  },\n",
      "  \"lti_user_id\": \"4c24fbb7be20e481f64a9c746783f8f4a7f79cb8\",\n",
      "  \"k5_user\": false,\n",
      "  \"use_classic_font_in_k5\": false\n",
      "}\n"
     ]
    }
   ],
   "source": [
    "# USER INFO\n",
    "\n",
    "url = api_url+f'users/self/profile'\n",
    "r = get_function(url, token=ACCESS_TOKEN)\n",
    "response = r.json()\n",
    "print(json.dumps(response, indent=2))"
   ],
   "metadata": {
    "collapsed": false,
    "ExecuteTime": {
     "end_time": "2023-09-25T00:54:43.167518300Z",
     "start_time": "2023-09-25T00:54:42.544312500Z"
    }
   },
   "id": "c3f5a66b2886cdbd"
  },
  {
   "cell_type": "code",
   "execution_count": 166,
   "outputs": [
    {
     "name": "stdout",
     "output_type": "stream",
     "text": [
      "[\n",
      "  {\n",
      "    \"asset_code\": \"home:course_62634\",\n",
      "    \"context_id\": 62634,\n",
      "    \"context_type\": \"Course\",\n",
      "    \"visited_at\": \"2023-09-25T00:29:49Z\",\n",
      "    \"visited_url\": \"https://poli.instructure.com/courses/62634\",\n",
      "    \"interaction_seconds\": null,\n",
      "    \"asset_icon\": \"icon-home\",\n",
      "    \"asset_readable_category\": \"Home\",\n",
      "    \"asset_name\": \"P\\u00e1gina de Inicio del curso\",\n",
      "    \"context_name\": \"SEGUNDO BLOQUE-CIENCIAS BASICAS - VIRTUAL/MATEM\\u00c1TICAS-[GRUPO C01]\"\n",
      "  }\n",
      "]\n"
     ]
    }
   ],
   "source": [
    "# USER HISTORY\n",
    "# OBTENER ID\n",
    "url = api_url+f'users/self/profile'\n",
    "r = get_function(url, token=ACCESS_TOKEN, verbose=False)\n",
    "response = r.json()\n",
    "user_id = response['id']\n",
    "\n",
    "# OBTENER HISTORIAL\n",
    "url = api_url+f'users/{user_id}/history'\n",
    "r = get_function(url, token=ACCESS_TOKEN, verbose=False)\n",
    "response = r.json()\n",
    "print(json.dumps(response, indent=2))"
   ],
   "metadata": {
    "collapsed": false,
    "ExecuteTime": {
     "end_time": "2023-09-25T00:54:47.669782200Z",
     "start_time": "2023-09-25T00:54:46.687863400Z"
    }
   },
   "id": "82f015ec5b18044f"
  },
  {
   "cell_type": "code",
   "execution_count": 167,
   "outputs": [
    {
     "name": "stdout",
     "output_type": "stream",
     "text": [
      "[\n",
      "  {\n",
      "    \"id\": 128828,\n",
      "    \"name\": \"GERALDINE  ALARC\\u00d3N RAM\\u00cdREZ\",\n",
      "    \"created_at\": \"2021-01-15T17:49:27-05:00\",\n",
      "    \"sortable_name\": \"ALARC\\u00d3N RAM\\u00cdREZ, GERALDINE \",\n",
      "    \"short_name\": \"GERALDINE  ALARC\\u00d3N RAM\\u00cdREZ\",\n",
      "    \"sis_user_id\": \"289063\",\n",
      "    \"integration_id\": null,\n",
      "    \"root_account\": \"poli.instructure.com\"\n",
      "  },\n",
      "  {\n",
      "    \"id\": 67118,\n",
      "    \"name\": \"Benavides Baharahona Nelson Alejandro\",\n",
      "    \"created_at\": \"2018-08-02T16:17:47-05:00\",\n",
      "    \"sortable_name\": \"Alejandro, Benavides Baharahona Nelson\",\n",
      "    \"short_name\": \"Benavides Baharahona Nelson Alejandro\",\n",
      "    \"sis_user_id\": \"222287\",\n",
      "    \"integration_id\": null,\n",
      "    \"root_account\": \"poli.instructure.com\"\n",
      "  },\n",
      "  {\n",
      "    \"id\": 77329,\n",
      "    \"name\": \"Morales  Lozada    Mario Alejandro \",\n",
      "    \"created_at\": \"2018-10-03T16:43:32-05:00\",\n",
      "    \"sortable_name\": \"Alejandro, Morales Lozada Mario\",\n",
      "    \"short_name\": \"Morales  Lozada    Mario Alejandro \",\n",
      "    \"sis_user_id\": \"228728\",\n",
      "    \"integration_id\": null,\n",
      "    \"root_account\": \"poli.instructure.com\"\n",
      "  },\n",
      "  {\n",
      "    \"id\": 179713,\n",
      "    \"name\": \"CARLOS HERNANDO  ALVAREZ OYOLA\",\n",
      "    \"created_at\": \"2023-03-06T18:49:15-05:00\",\n",
      "    \"sortable_name\": \"ALVAREZ OYOLA, CARLOS HERNANDO \",\n",
      "    \"short_name\": \"CARLOS HERNANDO  ALVAREZ OYOLA\",\n",
      "    \"sis_user_id\": \"364662\",\n",
      "    \"integration_id\": null,\n",
      "    \"root_account\": \"poli.instructure.com\"\n",
      "  },\n",
      "  {\n",
      "    \"id\": 98076,\n",
      "    \"name\": \"Ruiz Fonce Tatiana Andrea\",\n",
      "    \"created_at\": \"2019-07-30T17:57:32-05:00\",\n",
      "    \"sortable_name\": \"Andrea, Ruiz Fonce Tatiana\",\n",
      "    \"short_name\": \"Ruiz Fonce Tatiana Andrea\",\n",
      "    \"sis_user_id\": \"251313\",\n",
      "    \"integration_id\": null,\n",
      "    \"root_account\": \"poli.instructure.com\"\n",
      "  },\n",
      "  {\n",
      "    \"id\": 179706,\n",
      "    \"name\": \"LEIDY JOHANA  ARANGO VELA\",\n",
      "    \"created_at\": \"2023-03-06T18:47:44-05:00\",\n",
      "    \"sortable_name\": \"ARANGO VELA, LEIDY JOHANA \",\n",
      "    \"short_name\": \"LEIDY JOHANA  ARANGO VELA\",\n",
      "    \"sis_user_id\": \"364489\",\n",
      "    \"integration_id\": null,\n",
      "    \"root_account\": \"poli.instructure.com\"\n",
      "  },\n",
      "  {\n",
      "    \"id\": 173619,\n",
      "    \"name\": \"SILVIA JULIANA  ARDILA GRASS\",\n",
      "    \"created_at\": \"2023-01-23T19:21:17-05:00\",\n",
      "    \"sortable_name\": \"ARDILA GRASS, SILVIA JULIANA \",\n",
      "    \"short_name\": \"SILVIA JULIANA  ARDILA GRASS\",\n",
      "    \"sis_user_id\": \"352514\",\n",
      "    \"integration_id\": null,\n",
      "    \"root_account\": \"poli.instructure.com\"\n",
      "  },\n",
      "  {\n",
      "    \"id\": 150924,\n",
      "    \"name\": \"ANDRY JULIETH  ARGUELLO SARMIENTO\",\n",
      "    \"created_at\": \"2022-01-26T15:13:30-05:00\",\n",
      "    \"sortable_name\": \"ARGUELLO SARMIENTO, ANDRY JULIETH \",\n",
      "    \"short_name\": \"ANDRY JULIETH  ARGUELLO SARMIENTO\",\n",
      "    \"sis_user_id\": \"320868\",\n",
      "    \"integration_id\": null,\n",
      "    \"root_account\": \"poli.instructure.com\"\n",
      "  },\n",
      "  {\n",
      "    \"id\": 171454,\n",
      "    \"name\": \"SANDRA YANIRA  ARIZA BUSTOS\",\n",
      "    \"created_at\": \"2022-10-19T11:15:15-05:00\",\n",
      "    \"sortable_name\": \"ARIZA BUSTOS, SANDRA YANIRA \",\n",
      "    \"short_name\": \"SANDRA YANIRA  ARIZA BUSTOS\",\n",
      "    \"sis_user_id\": \"346728\",\n",
      "    \"integration_id\": null,\n",
      "    \"root_account\": \"poli.instructure.com\"\n",
      "  },\n",
      "  {\n",
      "    \"id\": 139731,\n",
      "    \"name\": \"KAREN LORENA  AVILA VEGA\",\n",
      "    \"created_at\": \"2021-04-20T10:39:42-05:00\",\n",
      "    \"sortable_name\": \"AVILA VEGA, KAREN LORENA \",\n",
      "    \"short_name\": \"KAREN LORENA  AVILA VEGA\",\n",
      "    \"sis_user_id\": \"301291\",\n",
      "    \"integration_id\": null,\n",
      "    \"root_account\": \"poli.instructure.com\"\n",
      "  }\n",
      "]\n",
      "10\n"
     ]
    }
   ],
   "source": [
    "# COURSE USERS\n",
    "course_id = 54608\n",
    "\n",
    "# OBTENER HISTORIAL\n",
    "url = api_url+f'courses/{course_id}/users'\n",
    "r = get_function(url, token=ACCESS_TOKEN, verbose=False)\n",
    "response = r.json()\n",
    "print(json.dumps(response, indent=2))\n",
    "print(len(response))"
   ],
   "metadata": {
    "collapsed": false,
    "ExecuteTime": {
     "end_time": "2023-09-25T00:54:48.337041500Z",
     "start_time": "2023-09-25T00:54:47.668785300Z"
    }
   },
   "id": "a484b55fc9c9c66a"
  },
  {
   "cell_type": "code",
   "execution_count": 200,
   "outputs": [],
   "source": [
    "# COURSE USERS\n",
    "course_id = 55470\n",
    "\n",
    "# OBTENER HISTORIAL\n",
    "# url = api_url+f'courses/{course_id}/users?page=1&per_page=5'\n",
    "url = api_url+f'courses/{course_id}/users'\n",
    "payload = {\n",
    "    'sort': 'email',\n",
    "    'enrollment_type': 'student'\n",
    "}\n",
    "r = get_function(url, payload=payload, token=ACCESS_TOKEN, verbose=False)\n",
    "response = r.json()"
   ],
   "metadata": {
    "collapsed": false,
    "ExecuteTime": {
     "end_time": "2023-09-25T01:04:38.405679300Z",
     "start_time": "2023-09-25T01:04:37.749438700Z"
    }
   },
   "id": "493480f3f2437799"
  },
  {
   "cell_type": "code",
   "execution_count": 201,
   "outputs": [
    {
     "data": {
      "text/plain": "       id                              name                 created_at  \\\n0  186969  ASHLEY ANDREA  CABARCAS MONTALVO  2023-07-04T17:38:04-05:00   \n1  186162       ANGIE ALISON  BERMUDEZ DIAZ  2023-06-23T13:10:28-05:00   \n2  186960            ALEJANDRA  ALZATE DIAZ  2023-07-04T17:35:09-05:00   \n3  187053   ANA CAROLINA  MONTALVO PORTACIO  2023-07-05T18:07:32-05:00   \n4  184613       ANA ELOISA  BARBOSA PARICIO  2023-06-22T09:01:13-05:00   \n5  184615   ANGELLY JOHANA  MORENO QUIÑONES  2023-06-22T09:03:17-05:00   \n6  186159     AURA JANETH  SANTOS HERNANDEZ  2023-06-23T13:07:52-05:00   \n7  186950   ANGELICA MARIA  HURTADO GIRALDO  2023-07-04T17:31:45-05:00   \n8  186932         ANA MARIA  ARDILA SANCHEZ  2023-07-04T17:25:38-05:00   \n9  187010    ADRIANA MARCELA  RUIZ  SANCHEZ  2023-07-05T17:49:35-05:00   \n\n                       sortable_name                        short_name  \\\n0  CABARCAS MONTALVO, ASHLEY ANDREA   ASHLEY ANDREA  CABARCAS MONTALVO   \n1       BERMUDEZ DIAZ, ANGIE ALISON        ANGIE ALISON  BERMUDEZ DIAZ   \n2            ALZATE DIAZ, ALEJANDRA             ALEJANDRA  ALZATE DIAZ   \n3   MONTALVO PORTACIO, ANA CAROLINA    ANA CAROLINA  MONTALVO PORTACIO   \n4       BARBOSA PARICIO, ANA ELOISA        ANA ELOISA  BARBOSA PARICIO   \n5   MORENO QUIÑONES, ANGELLY JOHANA    ANGELLY JOHANA  MORENO QUIÑONES   \n6     SANTOS HERNANDEZ, AURA JANETH      AURA JANETH  SANTOS HERNANDEZ   \n7   HURTADO GIRALDO, ANGELICA MARIA    ANGELICA MARIA  HURTADO GIRALDO   \n8         ARDILA SANCHEZ, ANA MARIA          ANA MARIA  ARDILA SANCHEZ   \n9    RUIZ  SANCHEZ, ADRIANA MARCELA     ADRIANA MARCELA  RUIZ  SANCHEZ   \n\n  sis_user_id integration_id          root_account  \n0      376379           None  poli.instructure.com  \n1      373274           None  poli.instructure.com  \n2      375604           None  poli.instructure.com  \n3      375314           None  poli.instructure.com  \n4      372595           None  poli.instructure.com  \n5      373532           None  poli.instructure.com  \n6      370494           None  poli.instructure.com  \n7      375319           None  poli.instructure.com  \n8      375684           None  poli.instructure.com  \n9      376454           None  poli.instructure.com  ",
      "text/html": "<div>\n<style scoped>\n    .dataframe tbody tr th:only-of-type {\n        vertical-align: middle;\n    }\n\n    .dataframe tbody tr th {\n        vertical-align: top;\n    }\n\n    .dataframe thead th {\n        text-align: right;\n    }\n</style>\n<table border=\"1\" class=\"dataframe\">\n  <thead>\n    <tr style=\"text-align: right;\">\n      <th></th>\n      <th>id</th>\n      <th>name</th>\n      <th>created_at</th>\n      <th>sortable_name</th>\n      <th>short_name</th>\n      <th>sis_user_id</th>\n      <th>integration_id</th>\n      <th>root_account</th>\n    </tr>\n  </thead>\n  <tbody>\n    <tr>\n      <th>0</th>\n      <td>186969</td>\n      <td>ASHLEY ANDREA  CABARCAS MONTALVO</td>\n      <td>2023-07-04T17:38:04-05:00</td>\n      <td>CABARCAS MONTALVO, ASHLEY ANDREA</td>\n      <td>ASHLEY ANDREA  CABARCAS MONTALVO</td>\n      <td>376379</td>\n      <td>None</td>\n      <td>poli.instructure.com</td>\n    </tr>\n    <tr>\n      <th>1</th>\n      <td>186162</td>\n      <td>ANGIE ALISON  BERMUDEZ DIAZ</td>\n      <td>2023-06-23T13:10:28-05:00</td>\n      <td>BERMUDEZ DIAZ, ANGIE ALISON</td>\n      <td>ANGIE ALISON  BERMUDEZ DIAZ</td>\n      <td>373274</td>\n      <td>None</td>\n      <td>poli.instructure.com</td>\n    </tr>\n    <tr>\n      <th>2</th>\n      <td>186960</td>\n      <td>ALEJANDRA  ALZATE DIAZ</td>\n      <td>2023-07-04T17:35:09-05:00</td>\n      <td>ALZATE DIAZ, ALEJANDRA</td>\n      <td>ALEJANDRA  ALZATE DIAZ</td>\n      <td>375604</td>\n      <td>None</td>\n      <td>poli.instructure.com</td>\n    </tr>\n    <tr>\n      <th>3</th>\n      <td>187053</td>\n      <td>ANA CAROLINA  MONTALVO PORTACIO</td>\n      <td>2023-07-05T18:07:32-05:00</td>\n      <td>MONTALVO PORTACIO, ANA CAROLINA</td>\n      <td>ANA CAROLINA  MONTALVO PORTACIO</td>\n      <td>375314</td>\n      <td>None</td>\n      <td>poli.instructure.com</td>\n    </tr>\n    <tr>\n      <th>4</th>\n      <td>184613</td>\n      <td>ANA ELOISA  BARBOSA PARICIO</td>\n      <td>2023-06-22T09:01:13-05:00</td>\n      <td>BARBOSA PARICIO, ANA ELOISA</td>\n      <td>ANA ELOISA  BARBOSA PARICIO</td>\n      <td>372595</td>\n      <td>None</td>\n      <td>poli.instructure.com</td>\n    </tr>\n    <tr>\n      <th>5</th>\n      <td>184615</td>\n      <td>ANGELLY JOHANA  MORENO QUIÑONES</td>\n      <td>2023-06-22T09:03:17-05:00</td>\n      <td>MORENO QUIÑONES, ANGELLY JOHANA</td>\n      <td>ANGELLY JOHANA  MORENO QUIÑONES</td>\n      <td>373532</td>\n      <td>None</td>\n      <td>poli.instructure.com</td>\n    </tr>\n    <tr>\n      <th>6</th>\n      <td>186159</td>\n      <td>AURA JANETH  SANTOS HERNANDEZ</td>\n      <td>2023-06-23T13:07:52-05:00</td>\n      <td>SANTOS HERNANDEZ, AURA JANETH</td>\n      <td>AURA JANETH  SANTOS HERNANDEZ</td>\n      <td>370494</td>\n      <td>None</td>\n      <td>poli.instructure.com</td>\n    </tr>\n    <tr>\n      <th>7</th>\n      <td>186950</td>\n      <td>ANGELICA MARIA  HURTADO GIRALDO</td>\n      <td>2023-07-04T17:31:45-05:00</td>\n      <td>HURTADO GIRALDO, ANGELICA MARIA</td>\n      <td>ANGELICA MARIA  HURTADO GIRALDO</td>\n      <td>375319</td>\n      <td>None</td>\n      <td>poli.instructure.com</td>\n    </tr>\n    <tr>\n      <th>8</th>\n      <td>186932</td>\n      <td>ANA MARIA  ARDILA SANCHEZ</td>\n      <td>2023-07-04T17:25:38-05:00</td>\n      <td>ARDILA SANCHEZ, ANA MARIA</td>\n      <td>ANA MARIA  ARDILA SANCHEZ</td>\n      <td>375684</td>\n      <td>None</td>\n      <td>poli.instructure.com</td>\n    </tr>\n    <tr>\n      <th>9</th>\n      <td>187010</td>\n      <td>ADRIANA MARCELA  RUIZ  SANCHEZ</td>\n      <td>2023-07-05T17:49:35-05:00</td>\n      <td>RUIZ  SANCHEZ, ADRIANA MARCELA</td>\n      <td>ADRIANA MARCELA  RUIZ  SANCHEZ</td>\n      <td>376454</td>\n      <td>None</td>\n      <td>poli.instructure.com</td>\n    </tr>\n  </tbody>\n</table>\n</div>"
     },
     "execution_count": 201,
     "metadata": {},
     "output_type": "execute_result"
    }
   ],
   "source": [
    "df = pd.DataFrame(response)\n",
    "df"
   ],
   "metadata": {
    "collapsed": false,
    "ExecuteTime": {
     "end_time": "2023-09-25T01:04:39.088372600Z",
     "start_time": "2023-09-25T01:04:39.054132900Z"
    }
   },
   "id": "f3e865ed5098c1a0"
  },
  {
   "cell_type": "code",
   "execution_count": 223,
   "outputs": [
    {
     "name": "stdout",
     "output_type": "stream",
     "text": [
      "Se exportaron 2 páginas\n",
      "total usuarios: 141\n"
     ]
    }
   ],
   "source": [
    "url = api_url+f'courses/{course_id}/users?per_page=100'\n",
    "payload = {\n",
    "    'sort': 'email',\n",
    "    # 'enrollment_type': 'student'\n",
    "}\n",
    "r = get_function(url, payload=payload, token=ACCESS_TOKEN, verbose=False)\n",
    "response = r.json()\n",
    "links = r.links\n",
    "\n",
    "n = 2\n",
    "while links.get('next') is not None:\n",
    "    url = r.links['next']['url']\n",
    "    r = get_function(url, payload=payload, token=ACCESS_TOKEN, verbose=False)\n",
    "    response += r.json()\n",
    "    links = r.links\n",
    "    n += 1\n",
    "print(f'Se exportaron {n-1} páginas\\n'\n",
    "      f'total usuarios: {len(response)}')\n",
    "#Crear DataFrame\n",
    "df = pd.DataFrame(response)\n",
    "df.to_excel(f'usuarios_{course_id}.xlsx', index=False)"
   ],
   "metadata": {
    "collapsed": false,
    "ExecuteTime": {
     "end_time": "2023-09-25T01:31:37.569089Z",
     "start_time": "2023-09-25T01:31:34.529513600Z"
    }
   },
   "id": "e87ba8bb6fb02899"
  },
  {
   "cell_type": "code",
   "execution_count": 220,
   "outputs": [
    {
     "data": {
      "text/plain": "         id                              name                 created_at  \\\n0    186969  ASHLEY ANDREA  CABARCAS MONTALVO  2023-07-04T17:38:04-05:00   \n1    186162       ANGIE ALISON  BERMUDEZ DIAZ  2023-06-23T13:10:28-05:00   \n2    186960            ALEJANDRA  ALZATE DIAZ  2023-07-04T17:35:09-05:00   \n3    187053   ANA CAROLINA  MONTALVO PORTACIO  2023-07-05T18:07:32-05:00   \n4    184613       ANA ELOISA  BARBOSA PARICIO  2023-06-22T09:01:13-05:00   \n..      ...                               ...                        ...   \n134  186964    YENY PAOLA  QUINTERO ATEHORTUA  2023-07-04T17:36:26-05:00   \n135  187384            YICELA ROCIO  GONZALEZ  2023-07-07T08:39:00-05:00   \n136  186135             YOANN HECTOR  RUDEAUX  2023-06-23T12:54:37-05:00   \n137  187410  YESICA TATIANA  CARDONA GONZALEZ  2023-07-07T11:25:55-05:00   \n138  187354    ZULMA CAROLINA  VERA RODRIGUEZ  2023-07-06T12:10:52-05:00   \n\n                         sortable_name                        short_name  \\\n0    CABARCAS MONTALVO, ASHLEY ANDREA   ASHLEY ANDREA  CABARCAS MONTALVO   \n1         BERMUDEZ DIAZ, ANGIE ALISON        ANGIE ALISON  BERMUDEZ DIAZ   \n2              ALZATE DIAZ, ALEJANDRA             ALEJANDRA  ALZATE DIAZ   \n3     MONTALVO PORTACIO, ANA CAROLINA    ANA CAROLINA  MONTALVO PORTACIO   \n4         BARBOSA PARICIO, ANA ELOISA        ANA ELOISA  BARBOSA PARICIO   \n..                                 ...                               ...   \n134    QUINTERO ATEHORTUA, YENY PAOLA     YENY PAOLA  QUINTERO ATEHORTUA   \n135            GONZALEZ, YICELA ROCIO             YICELA ROCIO  GONZALEZ   \n136             RUDEAUX, YOANN HECTOR              YOANN HECTOR  RUDEAUX   \n137  CARDONA GONZALEZ, YESICA TATIANA   YESICA TATIANA  CARDONA GONZALEZ   \n138    VERA RODRIGUEZ, ZULMA CAROLINA     ZULMA CAROLINA  VERA RODRIGUEZ   \n\n    sis_user_id integration_id          root_account  \n0        376379           None  poli.instructure.com  \n1        373274           None  poli.instructure.com  \n2        375604           None  poli.instructure.com  \n3        375314           None  poli.instructure.com  \n4        372595           None  poli.instructure.com  \n..          ...            ...                   ...  \n134      376146           None  poli.instructure.com  \n135      375348           None  poli.instructure.com  \n136      375064           None  poli.instructure.com  \n137      376686           None  poli.instructure.com  \n138      374125           None  poli.instructure.com  \n\n[139 rows x 8 columns]",
      "text/html": "<div>\n<style scoped>\n    .dataframe tbody tr th:only-of-type {\n        vertical-align: middle;\n    }\n\n    .dataframe tbody tr th {\n        vertical-align: top;\n    }\n\n    .dataframe thead th {\n        text-align: right;\n    }\n</style>\n<table border=\"1\" class=\"dataframe\">\n  <thead>\n    <tr style=\"text-align: right;\">\n      <th></th>\n      <th>id</th>\n      <th>name</th>\n      <th>created_at</th>\n      <th>sortable_name</th>\n      <th>short_name</th>\n      <th>sis_user_id</th>\n      <th>integration_id</th>\n      <th>root_account</th>\n    </tr>\n  </thead>\n  <tbody>\n    <tr>\n      <th>0</th>\n      <td>186969</td>\n      <td>ASHLEY ANDREA  CABARCAS MONTALVO</td>\n      <td>2023-07-04T17:38:04-05:00</td>\n      <td>CABARCAS MONTALVO, ASHLEY ANDREA</td>\n      <td>ASHLEY ANDREA  CABARCAS MONTALVO</td>\n      <td>376379</td>\n      <td>None</td>\n      <td>poli.instructure.com</td>\n    </tr>\n    <tr>\n      <th>1</th>\n      <td>186162</td>\n      <td>ANGIE ALISON  BERMUDEZ DIAZ</td>\n      <td>2023-06-23T13:10:28-05:00</td>\n      <td>BERMUDEZ DIAZ, ANGIE ALISON</td>\n      <td>ANGIE ALISON  BERMUDEZ DIAZ</td>\n      <td>373274</td>\n      <td>None</td>\n      <td>poli.instructure.com</td>\n    </tr>\n    <tr>\n      <th>2</th>\n      <td>186960</td>\n      <td>ALEJANDRA  ALZATE DIAZ</td>\n      <td>2023-07-04T17:35:09-05:00</td>\n      <td>ALZATE DIAZ, ALEJANDRA</td>\n      <td>ALEJANDRA  ALZATE DIAZ</td>\n      <td>375604</td>\n      <td>None</td>\n      <td>poli.instructure.com</td>\n    </tr>\n    <tr>\n      <th>3</th>\n      <td>187053</td>\n      <td>ANA CAROLINA  MONTALVO PORTACIO</td>\n      <td>2023-07-05T18:07:32-05:00</td>\n      <td>MONTALVO PORTACIO, ANA CAROLINA</td>\n      <td>ANA CAROLINA  MONTALVO PORTACIO</td>\n      <td>375314</td>\n      <td>None</td>\n      <td>poli.instructure.com</td>\n    </tr>\n    <tr>\n      <th>4</th>\n      <td>184613</td>\n      <td>ANA ELOISA  BARBOSA PARICIO</td>\n      <td>2023-06-22T09:01:13-05:00</td>\n      <td>BARBOSA PARICIO, ANA ELOISA</td>\n      <td>ANA ELOISA  BARBOSA PARICIO</td>\n      <td>372595</td>\n      <td>None</td>\n      <td>poli.instructure.com</td>\n    </tr>\n    <tr>\n      <th>...</th>\n      <td>...</td>\n      <td>...</td>\n      <td>...</td>\n      <td>...</td>\n      <td>...</td>\n      <td>...</td>\n      <td>...</td>\n      <td>...</td>\n    </tr>\n    <tr>\n      <th>134</th>\n      <td>186964</td>\n      <td>YENY PAOLA  QUINTERO ATEHORTUA</td>\n      <td>2023-07-04T17:36:26-05:00</td>\n      <td>QUINTERO ATEHORTUA, YENY PAOLA</td>\n      <td>YENY PAOLA  QUINTERO ATEHORTUA</td>\n      <td>376146</td>\n      <td>None</td>\n      <td>poli.instructure.com</td>\n    </tr>\n    <tr>\n      <th>135</th>\n      <td>187384</td>\n      <td>YICELA ROCIO  GONZALEZ</td>\n      <td>2023-07-07T08:39:00-05:00</td>\n      <td>GONZALEZ, YICELA ROCIO</td>\n      <td>YICELA ROCIO  GONZALEZ</td>\n      <td>375348</td>\n      <td>None</td>\n      <td>poli.instructure.com</td>\n    </tr>\n    <tr>\n      <th>136</th>\n      <td>186135</td>\n      <td>YOANN HECTOR  RUDEAUX</td>\n      <td>2023-06-23T12:54:37-05:00</td>\n      <td>RUDEAUX, YOANN HECTOR</td>\n      <td>YOANN HECTOR  RUDEAUX</td>\n      <td>375064</td>\n      <td>None</td>\n      <td>poli.instructure.com</td>\n    </tr>\n    <tr>\n      <th>137</th>\n      <td>187410</td>\n      <td>YESICA TATIANA  CARDONA GONZALEZ</td>\n      <td>2023-07-07T11:25:55-05:00</td>\n      <td>CARDONA GONZALEZ, YESICA TATIANA</td>\n      <td>YESICA TATIANA  CARDONA GONZALEZ</td>\n      <td>376686</td>\n      <td>None</td>\n      <td>poli.instructure.com</td>\n    </tr>\n    <tr>\n      <th>138</th>\n      <td>187354</td>\n      <td>ZULMA CAROLINA  VERA RODRIGUEZ</td>\n      <td>2023-07-06T12:10:52-05:00</td>\n      <td>VERA RODRIGUEZ, ZULMA CAROLINA</td>\n      <td>ZULMA CAROLINA  VERA RODRIGUEZ</td>\n      <td>374125</td>\n      <td>None</td>\n      <td>poli.instructure.com</td>\n    </tr>\n  </tbody>\n</table>\n<p>139 rows × 8 columns</p>\n</div>"
     },
     "execution_count": 220,
     "metadata": {},
     "output_type": "execute_result"
    }
   ],
   "source": [
    "df"
   ],
   "metadata": {
    "collapsed": false,
    "ExecuteTime": {
     "end_time": "2023-09-25T01:28:08.376686900Z",
     "start_time": "2023-09-25T01:28:08.352670500Z"
    }
   },
   "id": "69d908673d5c684e"
  },
  {
   "cell_type": "code",
   "execution_count": null,
   "outputs": [],
   "source": [],
   "metadata": {
    "collapsed": false
   },
   "id": "9f8a3164c748b532"
  }
 ],
 "metadata": {
  "kernelspec": {
   "display_name": "Python 3",
   "language": "python",
   "name": "python3"
  },
  "language_info": {
   "codemirror_mode": {
    "name": "ipython",
    "version": 2
   },
   "file_extension": ".py",
   "mimetype": "text/x-python",
   "name": "python",
   "nbconvert_exporter": "python",
   "pygments_lexer": "ipython2",
   "version": "2.7.6"
  }
 },
 "nbformat": 4,
 "nbformat_minor": 5
}
