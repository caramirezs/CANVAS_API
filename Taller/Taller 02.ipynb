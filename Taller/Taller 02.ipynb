{
 "cells": [
  {
   "cell_type": "code",
   "execution_count": 26,
   "id": "initial_id",
   "metadata": {
    "collapsed": true,
    "ExecuteTime": {
     "end_time": "2023-10-23T13:17:07.732385600Z",
     "start_time": "2023-10-23T13:17:07.691622800Z"
    }
   },
   "outputs": [],
   "source": [
    "import pandas as pd\n",
    "import os\n",
    "import requests\n",
    "import json"
   ]
  },
  {
   "cell_type": "code",
   "execution_count": 8,
   "outputs": [
    {
     "data": {
      "text/plain": "   ANIO  PERIODO_CODIGO SSBSECT_SUBJ_CODE  SSBSECT_CRSE_NUMB  SEMESTRE    NRC  \\\n0  2023          202310               ART              41318         1  10002   \n1  2023          202310               ART              41318         1  12081   \n2  2023          202310               ART              41321         1  10604   \n3  2023          202310               ART              41321         1  10604   \n4  2023          202310               ART              41321         1  10605   \n\n  STATUS_NRC CIUDAD_CODIGO_NRC MODALIDAD_NRC JORNADA_NRC  ... ID_DOCENTE  \\\n0          A               VIR       VIRTUAL     VIRTUAL  ...  100208806   \n1          A               VIR       VIRTUAL     VIRTUAL  ...  100208806   \n2          A               BOG    PRESENCIAL      DIURNO  ...  100033882   \n3          A               BOG    PRESENCIAL      DIURNO  ...  100033882   \n4          A               BOG    PRESENCIAL      DIURNO  ...  100041562   \n\n    APELLIDO_DOCENTE NOMBRE_DOCENTE USUARIO_DOCENTE INDICADOR_PRINCIPAL  \\\n0         ORTIZ RUIZ   IVONNE ROSIO       iroortizr                  SI   \n1         ORTIZ RUIZ   IVONNE ROSIO       iroortizr                  SI   \n2     MORENO GUEVARA  HELMUHD LUVIN       hlmoreno1                  SI   \n3     MORENO GUEVARA  HELMUHD LUVIN       hlmoreno1                  SI   \n4  JIMENEZ RODRIGUEZ  JENNY JULIANA     jjrodriguez                  SI   \n\n  NUMERO_ESTUDIANTES TIPO_SALON FECHA_INICIO  FECHA_FIN DOCUMEN_PROFESOR  \n0                120        NaN   2023-03-07 2023-05-09         63502044  \n1                140        NaN   2023-03-07 2023-05-09         63502044  \n2                 18        SAL   2023-03-11 2023-06-03         80037525  \n3                 18        SAL   2023-03-11 2023-06-03         80037525  \n4                 11        SAL   2023-03-11 2023-06-03         52355652  \n\n[5 rows x 44 columns]",
      "text/html": "<div>\n<style scoped>\n    .dataframe tbody tr th:only-of-type {\n        vertical-align: middle;\n    }\n\n    .dataframe tbody tr th {\n        vertical-align: top;\n    }\n\n    .dataframe thead th {\n        text-align: right;\n    }\n</style>\n<table border=\"1\" class=\"dataframe\">\n  <thead>\n    <tr style=\"text-align: right;\">\n      <th></th>\n      <th>ANIO</th>\n      <th>PERIODO_CODIGO</th>\n      <th>SSBSECT_SUBJ_CODE</th>\n      <th>SSBSECT_CRSE_NUMB</th>\n      <th>SEMESTRE</th>\n      <th>NRC</th>\n      <th>STATUS_NRC</th>\n      <th>CIUDAD_CODIGO_NRC</th>\n      <th>MODALIDAD_NRC</th>\n      <th>JORNADA_NRC</th>\n      <th>...</th>\n      <th>ID_DOCENTE</th>\n      <th>APELLIDO_DOCENTE</th>\n      <th>NOMBRE_DOCENTE</th>\n      <th>USUARIO_DOCENTE</th>\n      <th>INDICADOR_PRINCIPAL</th>\n      <th>NUMERO_ESTUDIANTES</th>\n      <th>TIPO_SALON</th>\n      <th>FECHA_INICIO</th>\n      <th>FECHA_FIN</th>\n      <th>DOCUMEN_PROFESOR</th>\n    </tr>\n  </thead>\n  <tbody>\n    <tr>\n      <th>0</th>\n      <td>2023</td>\n      <td>202310</td>\n      <td>ART</td>\n      <td>41318</td>\n      <td>1</td>\n      <td>10002</td>\n      <td>A</td>\n      <td>VIR</td>\n      <td>VIRTUAL</td>\n      <td>VIRTUAL</td>\n      <td>...</td>\n      <td>100208806</td>\n      <td>ORTIZ RUIZ</td>\n      <td>IVONNE ROSIO</td>\n      <td>iroortizr</td>\n      <td>SI</td>\n      <td>120</td>\n      <td>NaN</td>\n      <td>2023-03-07</td>\n      <td>2023-05-09</td>\n      <td>63502044</td>\n    </tr>\n    <tr>\n      <th>1</th>\n      <td>2023</td>\n      <td>202310</td>\n      <td>ART</td>\n      <td>41318</td>\n      <td>1</td>\n      <td>12081</td>\n      <td>A</td>\n      <td>VIR</td>\n      <td>VIRTUAL</td>\n      <td>VIRTUAL</td>\n      <td>...</td>\n      <td>100208806</td>\n      <td>ORTIZ RUIZ</td>\n      <td>IVONNE ROSIO</td>\n      <td>iroortizr</td>\n      <td>SI</td>\n      <td>140</td>\n      <td>NaN</td>\n      <td>2023-03-07</td>\n      <td>2023-05-09</td>\n      <td>63502044</td>\n    </tr>\n    <tr>\n      <th>2</th>\n      <td>2023</td>\n      <td>202310</td>\n      <td>ART</td>\n      <td>41321</td>\n      <td>1</td>\n      <td>10604</td>\n      <td>A</td>\n      <td>BOG</td>\n      <td>PRESENCIAL</td>\n      <td>DIURNO</td>\n      <td>...</td>\n      <td>100033882</td>\n      <td>MORENO GUEVARA</td>\n      <td>HELMUHD LUVIN</td>\n      <td>hlmoreno1</td>\n      <td>SI</td>\n      <td>18</td>\n      <td>SAL</td>\n      <td>2023-03-11</td>\n      <td>2023-06-03</td>\n      <td>80037525</td>\n    </tr>\n    <tr>\n      <th>3</th>\n      <td>2023</td>\n      <td>202310</td>\n      <td>ART</td>\n      <td>41321</td>\n      <td>1</td>\n      <td>10604</td>\n      <td>A</td>\n      <td>BOG</td>\n      <td>PRESENCIAL</td>\n      <td>DIURNO</td>\n      <td>...</td>\n      <td>100033882</td>\n      <td>MORENO GUEVARA</td>\n      <td>HELMUHD LUVIN</td>\n      <td>hlmoreno1</td>\n      <td>SI</td>\n      <td>18</td>\n      <td>SAL</td>\n      <td>2023-03-11</td>\n      <td>2023-06-03</td>\n      <td>80037525</td>\n    </tr>\n    <tr>\n      <th>4</th>\n      <td>2023</td>\n      <td>202310</td>\n      <td>ART</td>\n      <td>41321</td>\n      <td>1</td>\n      <td>10605</td>\n      <td>A</td>\n      <td>BOG</td>\n      <td>PRESENCIAL</td>\n      <td>DIURNO</td>\n      <td>...</td>\n      <td>100041562</td>\n      <td>JIMENEZ RODRIGUEZ</td>\n      <td>JENNY JULIANA</td>\n      <td>jjrodriguez</td>\n      <td>SI</td>\n      <td>11</td>\n      <td>SAL</td>\n      <td>2023-03-11</td>\n      <td>2023-06-03</td>\n      <td>52355652</td>\n    </tr>\n  </tbody>\n</table>\n<p>5 rows × 44 columns</p>\n</div>"
     },
     "execution_count": 8,
     "metadata": {},
     "output_type": "execute_result"
    }
   ],
   "source": [
    "df = pd.read_excel('GRUPOS.xlsx')\n",
    "df.head()"
   ],
   "metadata": {
    "collapsed": false,
    "ExecuteTime": {
     "end_time": "2023-10-23T12:51:53.948923300Z",
     "start_time": "2023-10-23T12:51:53.874610100Z"
    }
   },
   "id": "339cb1318250a44f"
  },
  {
   "cell_type": "code",
   "execution_count": 12,
   "outputs": [
    {
     "name": "stdout",
     "output_type": "stream",
     "text": [
      "11\n"
     ]
    },
    {
     "data": {
      "text/plain": "['10002_ART41318_SEMIOTICA_GRUPO1',\n '12081_ART41318_SEMIOTICA',\n '10604_ART41321_SEMIOTICA AUDIOVISUAL',\n '10605_ART41321_SEMIOTICA AUDIOVISUAL',\n '10606_ART41321_SEMIOTICA AUDIOVISUAL',\n '10607_ART41321_SEMIOTICA AUDIOVISUAL',\n '10608_ART41321_SEMIOTICA AUDIOVISUAL',\n '10609_ART41321_SEMIOTICA AUDIOVISUAL',\n '10610_ART41321_SEMIOTICA AUDIOVISUAL',\n '10611_ART41321_SEMIOTICA AUDIOVISUAL',\n '10612_ART41321_SEMIOTICA AUDIOVISUAL']"
     },
     "execution_count": 12,
     "metadata": {},
     "output_type": "execute_result"
    }
   ],
   "source": [
    "list(df.NOMBRE_CURSO)\n",
    "\n",
    "lista_cusos = list(dict.fromkeys(list(df.NOMBRE_CURSO)))\n",
    "print(len(lista_cusos))\n",
    "lista_cusos"
   ],
   "metadata": {
    "collapsed": false,
    "ExecuteTime": {
     "end_time": "2023-10-23T13:02:39.215022100Z",
     "start_time": "2023-10-23T13:02:39.204233600Z"
    }
   },
   "id": "9dd3c64d3c1c7c61"
  },
  {
   "cell_type": "code",
   "execution_count": 15,
   "outputs": [
    {
     "name": "stdout",
     "output_type": "stream",
     "text": [
      "Curso creado: 10002_ART41318_SEMIOTICA_GRUPO1 - 63513\n",
      "Curso creado: 12081_ART41318_SEMIOTICA - 63514\n",
      "Curso creado: 10604_ART41321_SEMIOTICA AUDIOVISUAL - 63515\n",
      "Curso creado: 10605_ART41321_SEMIOTICA AUDIOVISUAL - 63516\n",
      "Curso creado: 10606_ART41321_SEMIOTICA AUDIOVISUAL - 63517\n",
      "Curso creado: 10607_ART41321_SEMIOTICA AUDIOVISUAL - 63518\n",
      "Curso creado: 10608_ART41321_SEMIOTICA AUDIOVISUAL - 63519\n",
      "Curso creado: 10609_ART41321_SEMIOTICA AUDIOVISUAL - 63520\n",
      "Curso creado: 10610_ART41321_SEMIOTICA AUDIOVISUAL - 63521\n",
      "Curso creado: 10611_ART41321_SEMIOTICA AUDIOVISUAL - 63522\n",
      "Curso creado: 10612_ART41321_SEMIOTICA AUDIOVISUAL - 63523\n"
     ]
    }
   ],
   "source": [
    "ACCESS_TOKEN = os.getenv('ACCESS_TOKEN')\n",
    "api_url = f'https://poli.instructure.com/api/v1/'\n",
    "account_id = 20\n",
    "headers = {\n",
    "    \"Authorization\": f\"Bearer {ACCESS_TOKEN}\"\n",
    "}\n",
    "\n",
    "for curso in lista_cusos:\n",
    "    url = f'{api_url}accounts/{account_id}/courses'\n",
    "    payload = {\n",
    "        \"course[name]\": curso,\n",
    "        \"enroll_me\": True\n",
    "    }\n",
    "    r = requests.post(url=url, headers=headers, data=payload)\n",
    "    if r.status_code == 200:\n",
    "        response = r.json()\n",
    "        course_id = response[\"id\"]\n",
    "        with open('archivo.txt', 'a') as archivo:\n",
    "            archivo.write(f\"{curso}, {course_id}\" + '\\n')  \n",
    "        print(f'Curso creado: {curso} - {course_id}')"
   ],
   "metadata": {
    "collapsed": false,
    "ExecuteTime": {
     "end_time": "2023-10-23T13:05:19.743626Z",
     "start_time": "2023-10-23T13:05:10.465750400Z"
    }
   },
   "id": "9c9dca7de47317d9"
  },
  {
   "cell_type": "code",
   "execution_count": 25,
   "outputs": [
    {
     "data": {
      "text/plain": "['63513',\n '63514',\n '63515',\n '63516',\n '63517',\n '63518',\n '63519',\n '63520',\n '63521',\n '63522',\n '63523']"
     },
     "execution_count": 25,
     "metadata": {},
     "output_type": "execute_result"
    }
   ],
   "source": [
    "\n",
    "# Abre el archivo en modo lectura ('r')\n",
    "with open('archivo.txt', 'r') as archivo:\n",
    "    # Lee las líneas del archivo y elimina los espacios en blanco y saltos de línea\n",
    "    elementos = [line.strip() for line in archivo]\n",
    "\n",
    "lista_id = list()\n",
    "\n",
    "for ele in elementos:\n",
    "    nombre, id = ele.split(',')\n",
    "    lista_id.append(id.replace(\" \", \"\"))\n",
    "\n",
    "lista_id\n"
   ],
   "metadata": {
    "collapsed": false,
    "ExecuteTime": {
     "end_time": "2023-10-23T13:16:08.161673600Z",
     "start_time": "2023-10-23T13:16:08.121977400Z"
    }
   },
   "id": "e21fba374d8ea2c"
  },
  {
   "cell_type": "code",
   "execution_count": null,
   "outputs": [],
   "source": [],
   "metadata": {
    "collapsed": false
   },
   "id": "7f06167cb567516d"
  },
  {
   "cell_type": "code",
   "execution_count": 27,
   "outputs": [
    {
     "name": "stdout",
     "output_type": "stream",
     "text": [
      "{\n",
      "  \"id\": 82169,\n",
      "  \"user_id\": 52,\n",
      "  \"workflow_state\": \"running\",\n",
      "  \"started_at\": \"2023-10-23T13:17:14Z\",\n",
      "  \"finished_at\": null,\n",
      "  \"migration_type\": \"course_copy_importer\",\n",
      "  \"created_at\": \"2023-10-23T13:17:14Z\",\n",
      "  \"migration_issues_url\": \"https://poli.instructure.com/api/v1/courses/63513/content_migrations/82169/migration_issues\",\n",
      "  \"migration_issues_count\": 0,\n",
      "  \"settings\": {\n",
      "    \"source_course_id\": 63524,\n",
      "    \"source_course_name\": \"blueprint\",\n",
      "    \"source_course_html_url\": \"https://poli.instructure.com/courses/63524\"\n",
      "  },\n",
      "  \"progress_url\": \"https://poli.instructure.com/api/v1/progress/1904593\",\n",
      "  \"migration_type_title\": \"Copia del curso\"\n",
      "}\n",
      "{\n",
      "  \"id\": 82170,\n",
      "  \"user_id\": 52,\n",
      "  \"workflow_state\": \"running\",\n",
      "  \"started_at\": \"2023-10-23T13:17:15Z\",\n",
      "  \"finished_at\": null,\n",
      "  \"migration_type\": \"course_copy_importer\",\n",
      "  \"created_at\": \"2023-10-23T13:17:15Z\",\n",
      "  \"migration_issues_url\": \"https://poli.instructure.com/api/v1/courses/63514/content_migrations/82170/migration_issues\",\n",
      "  \"migration_issues_count\": 0,\n",
      "  \"settings\": {\n",
      "    \"source_course_id\": 63524,\n",
      "    \"source_course_name\": \"blueprint\",\n",
      "    \"source_course_html_url\": \"https://poli.instructure.com/courses/63524\"\n",
      "  },\n",
      "  \"progress_url\": \"https://poli.instructure.com/api/v1/progress/1904594\",\n",
      "  \"migration_type_title\": \"Copia del curso\"\n",
      "}\n",
      "{\n",
      "  \"id\": 82171,\n",
      "  \"user_id\": 52,\n",
      "  \"workflow_state\": \"running\",\n",
      "  \"started_at\": \"2023-10-23T13:17:16Z\",\n",
      "  \"finished_at\": null,\n",
      "  \"migration_type\": \"course_copy_importer\",\n",
      "  \"created_at\": \"2023-10-23T13:17:16Z\",\n",
      "  \"migration_issues_url\": \"https://poli.instructure.com/api/v1/courses/63515/content_migrations/82171/migration_issues\",\n",
      "  \"migration_issues_count\": 0,\n",
      "  \"settings\": {\n",
      "    \"source_course_id\": 63524,\n",
      "    \"source_course_name\": \"blueprint\",\n",
      "    \"source_course_html_url\": \"https://poli.instructure.com/courses/63524\"\n",
      "  },\n",
      "  \"progress_url\": \"https://poli.instructure.com/api/v1/progress/1904595\",\n",
      "  \"migration_type_title\": \"Copia del curso\"\n",
      "}\n",
      "{\n",
      "  \"id\": 82172,\n",
      "  \"user_id\": 52,\n",
      "  \"workflow_state\": \"running\",\n",
      "  \"started_at\": \"2023-10-23T13:17:16Z\",\n",
      "  \"finished_at\": null,\n",
      "  \"migration_type\": \"course_copy_importer\",\n",
      "  \"created_at\": \"2023-10-23T13:17:16Z\",\n",
      "  \"migration_issues_url\": \"https://poli.instructure.com/api/v1/courses/63516/content_migrations/82172/migration_issues\",\n",
      "  \"migration_issues_count\": 0,\n",
      "  \"settings\": {\n",
      "    \"source_course_id\": 63524,\n",
      "    \"source_course_name\": \"blueprint\",\n",
      "    \"source_course_html_url\": \"https://poli.instructure.com/courses/63524\"\n",
      "  },\n",
      "  \"progress_url\": \"https://poli.instructure.com/api/v1/progress/1904596\",\n",
      "  \"migration_type_title\": \"Copia del curso\"\n",
      "}\n",
      "{\n",
      "  \"id\": 82173,\n",
      "  \"user_id\": 52,\n",
      "  \"workflow_state\": \"running\",\n",
      "  \"started_at\": \"2023-10-23T13:17:17Z\",\n",
      "  \"finished_at\": null,\n",
      "  \"migration_type\": \"course_copy_importer\",\n",
      "  \"created_at\": \"2023-10-23T13:17:17Z\",\n",
      "  \"migration_issues_url\": \"https://poli.instructure.com/api/v1/courses/63517/content_migrations/82173/migration_issues\",\n",
      "  \"migration_issues_count\": 0,\n",
      "  \"settings\": {\n",
      "    \"source_course_id\": 63524,\n",
      "    \"source_course_name\": \"blueprint\",\n",
      "    \"source_course_html_url\": \"https://poli.instructure.com/courses/63524\"\n",
      "  },\n",
      "  \"progress_url\": \"https://poli.instructure.com/api/v1/progress/1904598\",\n",
      "  \"migration_type_title\": \"Copia del curso\"\n",
      "}\n",
      "{\n",
      "  \"id\": 82174,\n",
      "  \"user_id\": 52,\n",
      "  \"workflow_state\": \"running\",\n",
      "  \"started_at\": \"2023-10-23T13:17:18Z\",\n",
      "  \"finished_at\": null,\n",
      "  \"migration_type\": \"course_copy_importer\",\n",
      "  \"created_at\": \"2023-10-23T13:17:17Z\",\n",
      "  \"migration_issues_url\": \"https://poli.instructure.com/api/v1/courses/63518/content_migrations/82174/migration_issues\",\n",
      "  \"migration_issues_count\": 0,\n",
      "  \"settings\": {\n",
      "    \"source_course_id\": 63524,\n",
      "    \"source_course_name\": \"blueprint\",\n",
      "    \"source_course_html_url\": \"https://poli.instructure.com/courses/63524\"\n",
      "  },\n",
      "  \"progress_url\": \"https://poli.instructure.com/api/v1/progress/1904599\",\n",
      "  \"migration_type_title\": \"Copia del curso\"\n",
      "}\n",
      "{\n",
      "  \"id\": 82175,\n",
      "  \"user_id\": 52,\n",
      "  \"workflow_state\": \"running\",\n",
      "  \"started_at\": \"2023-10-23T13:17:18Z\",\n",
      "  \"finished_at\": null,\n",
      "  \"migration_type\": \"course_copy_importer\",\n",
      "  \"created_at\": \"2023-10-23T13:17:18Z\",\n",
      "  \"migration_issues_url\": \"https://poli.instructure.com/api/v1/courses/63519/content_migrations/82175/migration_issues\",\n",
      "  \"migration_issues_count\": 0,\n",
      "  \"settings\": {\n",
      "    \"source_course_id\": 63524,\n",
      "    \"source_course_name\": \"blueprint\",\n",
      "    \"source_course_html_url\": \"https://poli.instructure.com/courses/63524\"\n",
      "  },\n",
      "  \"progress_url\": \"https://poli.instructure.com/api/v1/progress/1904600\",\n",
      "  \"migration_type_title\": \"Copia del curso\"\n",
      "}\n",
      "{\n",
      "  \"id\": 82176,\n",
      "  \"user_id\": 52,\n",
      "  \"workflow_state\": \"running\",\n",
      "  \"started_at\": \"2023-10-23T13:17:19Z\",\n",
      "  \"finished_at\": null,\n",
      "  \"migration_type\": \"course_copy_importer\",\n",
      "  \"created_at\": \"2023-10-23T13:17:19Z\",\n",
      "  \"migration_issues_url\": \"https://poli.instructure.com/api/v1/courses/63520/content_migrations/82176/migration_issues\",\n",
      "  \"migration_issues_count\": 0,\n",
      "  \"settings\": {\n",
      "    \"source_course_id\": 63524,\n",
      "    \"source_course_name\": \"blueprint\",\n",
      "    \"source_course_html_url\": \"https://poli.instructure.com/courses/63524\"\n",
      "  },\n",
      "  \"progress_url\": \"https://poli.instructure.com/api/v1/progress/1904602\",\n",
      "  \"migration_type_title\": \"Copia del curso\"\n",
      "}\n",
      "{\n",
      "  \"id\": 82177,\n",
      "  \"user_id\": 52,\n",
      "  \"workflow_state\": \"running\",\n",
      "  \"started_at\": \"2023-10-23T13:17:19Z\",\n",
      "  \"finished_at\": null,\n",
      "  \"migration_type\": \"course_copy_importer\",\n",
      "  \"created_at\": \"2023-10-23T13:17:19Z\",\n",
      "  \"migration_issues_url\": \"https://poli.instructure.com/api/v1/courses/63521/content_migrations/82177/migration_issues\",\n",
      "  \"migration_issues_count\": 0,\n",
      "  \"settings\": {\n",
      "    \"source_course_id\": 63524,\n",
      "    \"source_course_name\": \"blueprint\",\n",
      "    \"source_course_html_url\": \"https://poli.instructure.com/courses/63524\"\n",
      "  },\n",
      "  \"progress_url\": \"https://poli.instructure.com/api/v1/progress/1904603\",\n",
      "  \"migration_type_title\": \"Copia del curso\"\n",
      "}\n",
      "{\n",
      "  \"id\": 82178,\n",
      "  \"user_id\": 52,\n",
      "  \"workflow_state\": \"running\",\n",
      "  \"started_at\": \"2023-10-23T13:17:20Z\",\n",
      "  \"finished_at\": null,\n",
      "  \"migration_type\": \"course_copy_importer\",\n",
      "  \"created_at\": \"2023-10-23T13:17:20Z\",\n",
      "  \"migration_issues_url\": \"https://poli.instructure.com/api/v1/courses/63522/content_migrations/82178/migration_issues\",\n",
      "  \"migration_issues_count\": 0,\n",
      "  \"settings\": {\n",
      "    \"source_course_id\": 63524,\n",
      "    \"source_course_name\": \"blueprint\",\n",
      "    \"source_course_html_url\": \"https://poli.instructure.com/courses/63524\"\n",
      "  },\n",
      "  \"progress_url\": \"https://poli.instructure.com/api/v1/progress/1904605\",\n",
      "  \"migration_type_title\": \"Copia del curso\"\n",
      "}\n",
      "{\n",
      "  \"id\": 82179,\n",
      "  \"user_id\": 52,\n",
      "  \"workflow_state\": \"running\",\n",
      "  \"started_at\": \"2023-10-23T13:17:20Z\",\n",
      "  \"finished_at\": null,\n",
      "  \"migration_type\": \"course_copy_importer\",\n",
      "  \"created_at\": \"2023-10-23T13:17:20Z\",\n",
      "  \"migration_issues_url\": \"https://poli.instructure.com/api/v1/courses/63523/content_migrations/82179/migration_issues\",\n",
      "  \"migration_issues_count\": 0,\n",
      "  \"settings\": {\n",
      "    \"source_course_id\": 63524,\n",
      "    \"source_course_name\": \"blueprint\",\n",
      "    \"source_course_html_url\": \"https://poli.instructure.com/courses/63524\"\n",
      "  },\n",
      "  \"progress_url\": \"https://poli.instructure.com/api/v1/progress/1904609\",\n",
      "  \"migration_type_title\": \"Copia del curso\"\n",
      "}\n"
     ]
    }
   ],
   "source": [
    "source_course_id = 63524\n",
    "for course_id in lista_id:    \n",
    "    url = f'{api_url}courses/{course_id}/content_migrations'\n",
    "    payload = {\n",
    "        \"migration_type\": \"course_copy_importer\",\n",
    "        \"settings[source_course_id]\": str(source_course_id)\n",
    "    }\n",
    "\n",
    "    r = requests.post(url=url, headers=headers, data=payload)\n",
    "\n",
    "    if r.status_code == 200:\n",
    "        response = r.json()\n",
    "        print(json.dumps(response, indent=2))"
   ],
   "metadata": {
    "collapsed": false,
    "ExecuteTime": {
     "end_time": "2023-10-23T13:17:20.788814400Z",
     "start_time": "2023-10-23T13:17:14.430972800Z"
    }
   },
   "id": "e01e25548f426b61"
  },
  {
   "cell_type": "code",
   "execution_count": 30,
   "outputs": [
    {
     "data": {
      "text/plain": "[['63513', '149814'],\n ['63514', '149814'],\n ['63515', '149814'],\n ['63516', '149814'],\n ['63517', '149814'],\n ['63518', '171924'],\n ['63519', '149814'],\n ['63520', '14981432343'],\n ['63521', '149814432432'],\n ['63522', '47760'],\n ['63523', '149814']]"
     },
     "execution_count": 30,
     "metadata": {},
     "output_type": "execute_result"
    }
   ],
   "source": [
    "# Abre el archivo en modo lectura ('r')\n",
    "with open('inscripcion.txt', 'r') as archivo:\n",
    "    # Lee las líneas del archivo y elimina los espacios en blanco y saltos de línea\n",
    "    elementos = [line.strip() for line in archivo]\n",
    "\n",
    "lista_inscripcion = list()\n",
    "\n",
    "for ele in elementos:\n",
    "    id_curso, id_usuario = ele.split(',')\n",
    "    lista_inscripcion.append([id_curso.replace(\" \", \"\"), id_usuario.replace(\" \", \"\")])\n",
    "\n",
    "lista_inscripcion"
   ],
   "metadata": {
    "collapsed": false,
    "ExecuteTime": {
     "end_time": "2023-10-23T13:25:22.968649400Z",
     "start_time": "2023-10-23T13:25:22.945019500Z"
    }
   },
   "id": "70f7c39ad6b6d088"
  },
  {
   "cell_type": "code",
   "execution_count": 35,
   "outputs": [
    {
     "name": "stdout",
     "output_type": "stream",
     "text": [
      "Usuario 149814 matriculado 63513\n",
      "Usuario 149814 matriculado 63514\n",
      "Usuario 149814 matriculado 63515\n",
      "Usuario 149814 matriculado 63516\n",
      "Usuario 149814 matriculado 63517\n",
      "Usuario 149814 matriculado 63519\n",
      "Usuario 47760 matriculado 63522\n",
      "Usuario 149814 matriculado 63523\n"
     ]
    }
   ],
   "source": [
    "for id_curso, id_usuario in lista_inscripcion:\n",
    "    payload = {\n",
    "    \"enrollment[user_id]\": id_usuario,\n",
    "    \"enrollment[role_id]\": 4,\n",
    "    \"enrollment[enrollment_state]\": \"active\"\n",
    "    }\n",
    "    \n",
    "    url = f'{api_url}/courses/{id_curso}/enrollments'\n",
    "    r = requests.post(url, headers=headers, data=payload)\n",
    "    \n",
    "    if r.status_code == 200:\n",
    "        response = r.json()\n",
    "        mat_id = response[\"id\"]\n",
    "        with open('log_matriculas.txt', 'a') as archivo:\n",
    "            archivo.write(f\"1, {id_usuario} -matriculado en- {id_curso}, codigo {mat_id}\" + '\\n')  \n",
    "        print(f'Usuario {id_usuario} matriculado {id_curso}')\n",
    "    else: \n",
    "        with open('log_matriculas.txt', 'a') as archivo:\n",
    "            archivo.write(f\"0, {id_usuario} - NO matriculado en - {id_curso}\" + '\\n') "
   ],
   "metadata": {
    "collapsed": false,
    "ExecuteTime": {
     "end_time": "2023-10-23T13:33:51.822771800Z",
     "start_time": "2023-10-23T13:33:44.778619200Z"
    }
   },
   "id": "2ebf5817d1d00b6a"
  },
  {
   "cell_type": "code",
   "execution_count": 34,
   "outputs": [
    {
     "name": "stdout",
     "output_type": "stream",
     "text": [
      "200\n",
      "{'id': 3954776, 'user_id': 171914, 'course_id': 63513, 'type': 'TeacherEnrollment', 'created_at': '2023-10-23T13:30:27Z', 'updated_at': '2023-10-23T13:30:27Z', 'associated_user_id': None, 'start_at': None, 'end_at': None, 'course_section_id': 68793, 'root_account_id': 1, 'limit_privileges_to_course_section': False, 'enrollment_state': 'active', 'role': 'TeacherEnrollment', 'role_id': 4, 'last_activity_at': '2023-10-23T13:30:46Z', 'last_attended_at': None, 'total_activity_time': 0, 'sis_account_id': None, 'sis_course_id': None, 'course_integration_id': None, 'sis_section_id': None, 'section_integration_id': None, 'sis_user_id': '352161', 'html_url': 'https://poli.instructure.com/courses/63513/users/171914'}\n"
     ]
    }
   ],
   "source": [
    "id_curso = 63513\n",
    "payload = {\n",
    "\"enrollment[user_id]\": 171914,\n",
    "\"enrollment[role_id]\": 4,\n",
    "\"enrollment[enrollment_state]\": \"active\"\n",
    "}\n",
    "    \n",
    "url = f'{api_url}/courses/{id_curso}/enrollments'\n",
    "\n",
    "r = requests.post(url, headers=headers, data=payload)\n",
    "\n",
    "print(r.status_code)\n",
    "if r.status_code == 200:\n",
    "    response = r.json()\n",
    "    print(response)\n"
   ],
   "metadata": {
    "collapsed": false,
    "ExecuteTime": {
     "end_time": "2023-10-23T13:31:05.719004300Z",
     "start_time": "2023-10-23T13:31:05.215556100Z"
    }
   },
   "id": "f493b256440a20ed"
  },
  {
   "cell_type": "code",
   "execution_count": null,
   "outputs": [],
   "source": [],
   "metadata": {
    "collapsed": false
   },
   "id": "9d2fbe4dd2467637"
  }
 ],
 "metadata": {
  "kernelspec": {
   "display_name": "Python 3",
   "language": "python",
   "name": "python3"
  },
  "language_info": {
   "codemirror_mode": {
    "name": "ipython",
    "version": 2
   },
   "file_extension": ".py",
   "mimetype": "text/x-python",
   "name": "python",
   "nbconvert_exporter": "python",
   "pygments_lexer": "ipython2",
   "version": "2.7.6"
  }
 },
 "nbformat": 4,
 "nbformat_minor": 5
}
